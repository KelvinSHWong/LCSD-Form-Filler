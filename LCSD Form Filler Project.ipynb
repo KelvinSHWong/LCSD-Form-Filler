{
 "cells": [
  {
   "cell_type": "markdown",
   "id": "7144b9aa",
   "metadata": {},
   "source": [
    "# Application Form Filler for LCSD District Age Group Competition"
   ]
  },
  {
   "cell_type": "markdown",
   "id": "b1d0bb78",
   "metadata": {},
   "source": [
    "## Download the Latest Version of ChromeDriver: https://sites.google.com/chromium.org/driver/downloads?authuser=0"
   ]
  },
  {
   "cell_type": "code",
   "execution_count": 1,
   "id": "43eef93a",
   "metadata": {},
   "outputs": [],
   "source": [
    "from selenium import webdriver\n",
    "from selenium.webdriver.common.keys import Keys\n",
    "from selenium.webdriver.common.by import By\n",
    "from selenium.webdriver.support.ui import Select\n",
    "from selenium.webdriver.support.ui import WebDriverWait\n",
    "from selenium.webdriver.support import expected_conditions as EC\n",
    "import numpy as np\n",
    "import pandas as pd\n",
    "from datetime import date"
   ]
  },
  {
   "cell_type": "markdown",
   "id": "e20f6b64",
   "metadata": {},
   "source": [
    "## 1. Dates Extraction"
   ]
  },
  {
   "cell_type": "code",
   "execution_count": 2,
   "id": "ab3513e9",
   "metadata": {},
   "outputs": [
    {
     "name": "stderr",
     "output_type": "stream",
     "text": [
      "C:\\Users\\kelvi\\AppData\\Local\\Temp/ipykernel_9392/1236159266.py:2: DeprecationWarning: executable_path has been deprecated, please pass in a Service object\n",
      "  driver = webdriver.Chrome(PATH)\n"
     ]
    }
   ],
   "source": [
    "PATH = 'C:\\Program Files (x86)\\chromedriver.exe'\n",
    "driver = webdriver.Chrome(PATH)\n",
    "driver.get(\"https://www.lcsd.gov.hk/clpss/tc/webApp/Dagc.do?searchFormPath=%2FwebApp%2FDagc&act=060&dist=ALL&pageNo=1&sortField=&sortOrder=&=#searchResult\")"
   ]
  },
  {
   "cell_type": "code",
   "execution_count": 3,
   "id": "0373335f",
   "metadata": {},
   "outputs": [
    {
     "name": "stdout",
     "output_type": "stream",
     "text": [
      "地區分齡體育比賽\n"
     ]
    }
   ],
   "source": [
    "print(driver.title)"
   ]
  },
  {
   "cell_type": "code",
   "execution_count": 4,
   "id": "5a45f6d4",
   "metadata": {},
   "outputs": [
    {
     "name": "stdout",
     "output_type": "stream",
     "text": [
      "Ad Closed\n"
     ]
    }
   ],
   "source": [
    "try:\n",
    "    driver.find_element(By.CLASS_NAME, \"close\").click()\n",
    "    driver.implicitly_wait(5)\n",
    "except:\n",
    "    print(\"Ad Closed\")"
   ]
  },
  {
   "cell_type": "code",
   "execution_count": 5,
   "id": "1915516b",
   "metadata": {},
   "outputs": [],
   "source": [
    "try:\n",
    "    search_result = WebDriverWait(driver, 10).until(\n",
    "        EC.presence_of_element_located((By.ID, \"searchResult\"))\n",
    "    )\n",
    "except:\n",
    "    print(\"Error in WebDriverWait\")"
   ]
  },
  {
   "cell_type": "code",
   "execution_count": 6,
   "id": "cdb395dc",
   "metadata": {},
   "outputs": [],
   "source": [
    "# 18 Districts' Competition Date & Application Date\n",
    "\n",
    "districts = []\n",
    "compete_date = []\n",
    "app_date = []\n",
    "\n",
    "for num in range(1, 19):\n",
    "    try:\n",
    "        districts.append(search_result.find_element(By.XPATH, f\"table/tbody/tr[{num}]/td[2]\").text)\n",
    "        compete_date.append(search_result.find_element(By.XPATH, f\"table/tbody/tr[{num}]/td[3]\").text.replace('\\n', ''))\n",
    "        app_date.append(search_result.find_element(By.XPATH, f\"table/tbody/tr[{num}]/td[4]\").text.replace('\\n', ''))\n",
    "    except:\n",
    "        print(\"There are completed information for\", num-1, \"districts only\")\n",
    "        break"
   ]
  },
  {
   "cell_type": "code",
   "execution_count": 7,
   "id": "4d04a8a1",
   "metadata": {},
   "outputs": [],
   "source": [
    "df = pd.DataFrame(np.array([districts, compete_date, app_date]).T, \n",
    "                  columns=['District', 'Competition Date', 'Application Date']\n",
    ").sort_values(by='Application Date', key=lambda col: col.str[3:5] + col.str[0:2], ascending=True).reset_index(drop=True)"
   ]
  },
  {
   "cell_type": "code",
   "execution_count": 8,
   "id": "8695959d",
   "metadata": {},
   "outputs": [
    {
     "data": {
      "text/html": [
       "<div>\n",
       "<style scoped>\n",
       "    .dataframe tbody tr th:only-of-type {\n",
       "        vertical-align: middle;\n",
       "    }\n",
       "\n",
       "    .dataframe tbody tr th {\n",
       "        vertical-align: top;\n",
       "    }\n",
       "\n",
       "    .dataframe thead th {\n",
       "        text-align: right;\n",
       "    }\n",
       "</style>\n",
       "<table border=\"1\" class=\"dataframe\">\n",
       "  <thead>\n",
       "    <tr style=\"text-align: right;\">\n",
       "      <th></th>\n",
       "      <th>District</th>\n",
       "      <th>Competition Date</th>\n",
       "      <th>Application Date</th>\n",
       "    </tr>\n",
       "  </thead>\n",
       "  <tbody>\n",
       "    <tr>\n",
       "      <th>0</th>\n",
       "      <td>北區</td>\n",
       "      <td>11/06/2023 - 25/06/2023(日)</td>\n",
       "      <td>06/04/2023-13/04/2023</td>\n",
       "    </tr>\n",
       "    <tr>\n",
       "      <th>1</th>\n",
       "      <td>荃灣</td>\n",
       "      <td>09/07/2023 - 23/07/2023(日)</td>\n",
       "      <td>14/04/2023-20/04/2023</td>\n",
       "    </tr>\n",
       "    <tr>\n",
       "      <th>2</th>\n",
       "      <td>黃大仙</td>\n",
       "      <td>15/07/2023 - 23/07/2023(六, 日)</td>\n",
       "      <td>19/04/2023-27/04/2023</td>\n",
       "    </tr>\n",
       "    <tr>\n",
       "      <th>3</th>\n",
       "      <td>東區</td>\n",
       "      <td>29/10/2022 - 06/11/2022(六、日)</td>\n",
       "      <td>08/08/2022-17/08/2022</td>\n",
       "    </tr>\n",
       "    <tr>\n",
       "      <th>4</th>\n",
       "      <td>灣仔</td>\n",
       "      <td>13/11/2022 - 27/11/2022(日)</td>\n",
       "      <td>10/08/2022-21/08/2022</td>\n",
       "    </tr>\n",
       "    <tr>\n",
       "      <th>5</th>\n",
       "      <td>離島</td>\n",
       "      <td>09/10/2022 - 23/10/2022(日)</td>\n",
       "      <td>15/08/2022-23/08/2022</td>\n",
       "    </tr>\n",
       "    <tr>\n",
       "      <th>6</th>\n",
       "      <td>南區</td>\n",
       "      <td>06/11/2022 - 13/11/2022(日)</td>\n",
       "      <td>24/08/2022-02/09/2022</td>\n",
       "    </tr>\n",
       "    <tr>\n",
       "      <th>7</th>\n",
       "      <td>屯門</td>\n",
       "      <td>13/11/2022 - 27/11/2022(日)</td>\n",
       "      <td>09/09/2022-16/09/2022</td>\n",
       "    </tr>\n",
       "    <tr>\n",
       "      <th>8</th>\n",
       "      <td>西貢</td>\n",
       "      <td>04/12/2022 - 11/12/2022(日)</td>\n",
       "      <td>13/09/2022-20/09/2022</td>\n",
       "    </tr>\n",
       "    <tr>\n",
       "      <th>9</th>\n",
       "      <td>葵青</td>\n",
       "      <td>01/01/2023 - 15/01/2023(日)</td>\n",
       "      <td>16/09/2022-23/09/2022</td>\n",
       "    </tr>\n",
       "    <tr>\n",
       "      <th>10</th>\n",
       "      <td>油尖旺</td>\n",
       "      <td>08/01/2023 - 19/02/2023(日)</td>\n",
       "      <td>20/10/2022-27/10/2022</td>\n",
       "    </tr>\n",
       "    <tr>\n",
       "      <th>11</th>\n",
       "      <td>沙田</td>\n",
       "      <td>11/02/2023 - 26/02/2023(六、日)</td>\n",
       "      <td>10/11/2022-23/11/2022</td>\n",
       "    </tr>\n",
       "    <tr>\n",
       "      <th>12</th>\n",
       "      <td>中西區</td>\n",
       "      <td>05/02/2023 - 19/02/2023(日)</td>\n",
       "      <td>15/11/2022-23/11/2022</td>\n",
       "    </tr>\n",
       "    <tr>\n",
       "      <th>13</th>\n",
       "      <td>九龍城</td>\n",
       "      <td>05/02/2023 - 19/02/2023(日)</td>\n",
       "      <td>17/11/2022-24/11/2022</td>\n",
       "    </tr>\n",
       "    <tr>\n",
       "      <th>14</th>\n",
       "      <td>深水埗</td>\n",
       "      <td>12/02/2023 - 19/02/2023(日)</td>\n",
       "      <td>21/11/2022-28/11/2022</td>\n",
       "    </tr>\n",
       "    <tr>\n",
       "      <th>15</th>\n",
       "      <td>觀塘</td>\n",
       "      <td>18/03/2023 - 26/03/2023(六、日)</td>\n",
       "      <td>28/11/2022-06/12/2022</td>\n",
       "    </tr>\n",
       "    <tr>\n",
       "      <th>16</th>\n",
       "      <td>大埔</td>\n",
       "      <td>05/03/2023 - 19/03/2023(日)</td>\n",
       "      <td>16/12/2022-29/12/2022</td>\n",
       "    </tr>\n",
       "    <tr>\n",
       "      <th>17</th>\n",
       "      <td>元朗</td>\n",
       "      <td>05/03/2023 - 19/03/2023(日)</td>\n",
       "      <td>22/12/2022-30/12/2022</td>\n",
       "    </tr>\n",
       "  </tbody>\n",
       "</table>\n",
       "</div>"
      ],
      "text/plain": [
       "   District               Competition Date       Application Date\n",
       "0        北區     11/06/2023 - 25/06/2023(日)  06/04/2023-13/04/2023\n",
       "1        荃灣     09/07/2023 - 23/07/2023(日)  14/04/2023-20/04/2023\n",
       "2       黃大仙  15/07/2023 - 23/07/2023(六, 日)  19/04/2023-27/04/2023\n",
       "3        東區   29/10/2022 - 06/11/2022(六、日)  08/08/2022-17/08/2022\n",
       "4        灣仔     13/11/2022 - 27/11/2022(日)  10/08/2022-21/08/2022\n",
       "5        離島     09/10/2022 - 23/10/2022(日)  15/08/2022-23/08/2022\n",
       "6        南區     06/11/2022 - 13/11/2022(日)  24/08/2022-02/09/2022\n",
       "7        屯門     13/11/2022 - 27/11/2022(日)  09/09/2022-16/09/2022\n",
       "8        西貢     04/12/2022 - 11/12/2022(日)  13/09/2022-20/09/2022\n",
       "9        葵青     01/01/2023 - 15/01/2023(日)  16/09/2022-23/09/2022\n",
       "10      油尖旺     08/01/2023 - 19/02/2023(日)  20/10/2022-27/10/2022\n",
       "11       沙田   11/02/2023 - 26/02/2023(六、日)  10/11/2022-23/11/2022\n",
       "12      中西區     05/02/2023 - 19/02/2023(日)  15/11/2022-23/11/2022\n",
       "13      九龍城     05/02/2023 - 19/02/2023(日)  17/11/2022-24/11/2022\n",
       "14      深水埗     12/02/2023 - 19/02/2023(日)  21/11/2022-28/11/2022\n",
       "15       觀塘   18/03/2023 - 26/03/2023(六、日)  28/11/2022-06/12/2022\n",
       "16       大埔     05/03/2023 - 19/03/2023(日)  16/12/2022-29/12/2022\n",
       "17       元朗     05/03/2023 - 19/03/2023(日)  22/12/2022-30/12/2022"
      ]
     },
     "execution_count": 8,
     "metadata": {},
     "output_type": "execute_result"
    }
   ],
   "source": [
    "df"
   ]
  },
  {
   "cell_type": "code",
   "execution_count": 9,
   "id": "050c7151",
   "metadata": {},
   "outputs": [],
   "source": [
    "# Output to Excel\n",
    "\n",
    "today = str(date.today()).replace('-', '')\n",
    "df.to_excel(f'18區分齡賽報名日期_{today}.xlsx', index=False)"
   ]
  },
  {
   "cell_type": "code",
   "execution_count": 10,
   "id": "bfd21661",
   "metadata": {},
   "outputs": [],
   "source": [
    "driver.quit()"
   ]
  },
  {
   "cell_type": "markdown",
   "id": "885679fe",
   "metadata": {},
   "source": [
    "## 2. Searching for Application Links"
   ]
  },
  {
   "cell_type": "code",
   "execution_count": 11,
   "id": "4bfc41b6",
   "metadata": {
    "scrolled": true
   },
   "outputs": [
    {
     "name": "stderr",
     "output_type": "stream",
     "text": [
      "C:\\Users\\kelvi\\AppData\\Local\\Temp/ipykernel_9392/2856429340.py:2: DeprecationWarning: executable_path has been deprecated, please pass in a Service object\n",
      "  driver = webdriver.Chrome(PATH)\n"
     ]
    }
   ],
   "source": [
    "PATH = 'C:\\Program Files (x86)\\chromedriver.exe'\n",
    "driver = webdriver.Chrome(PATH)\n",
    "driver.get(\"https://www.lcsd.gov.hk/clpss/tc/search/leisure/srchCommRecretSprtProgsForm.do?searchFormPath=search%2Fleisure%2FsrchCommRecretSprtProgsForm&dist=ALL&enrolStat=E&enrolMeth=ALL&actType=060&targetType=ALL&age=gp4&month=99&enrolDate=&DateType=%E5%A0%B1%E5%90%8D%E6%97%A5%E6%9C%9F&sortField=&sortOrder=&search=&pageNo=1&sortField1=&sortField2=&sortField3=&sortField4=&hasSort=yes&sub_month=\")"
   ]
  },
  {
   "cell_type": "code",
   "execution_count": 12,
   "id": "41b3b830",
   "metadata": {},
   "outputs": [],
   "source": [
    "age_group = \"ME\""
   ]
  },
  {
   "cell_type": "code",
   "execution_count": 13,
   "id": "91c50941",
   "metadata": {},
   "outputs": [
    {
     "name": "stdout",
     "output_type": "stream",
     "text": [
      "['北區第三十七屆乒乓球分齡賽男成單打ME組']\n"
     ]
    }
   ],
   "source": [
    "# Search for applicable competitions\n",
    "\n",
    "app_link_text = []\n",
    "app_links = []\n",
    "\n",
    "try:\n",
    "    resultTableView = WebDriverWait(driver, 10).until(\n",
    "        EC.presence_of_element_located((By.ID, \"resultTableView\"))\n",
    "    )\n",
    "    links = resultTableView.find_elements(By.TAG_NAME, \"a\")\n",
    "    for link in links:\n",
    "        link_text = link.text\n",
    "        # Search for \"ME\" Group\n",
    "        if age_group in link_text:\n",
    "            app_link_text.append(link_text)\n",
    "    print(app_link_text)\n",
    "    \n",
    "    for s in app_link_text:\n",
    "        app_links.append(resultTableView.find_element(By.LINK_TEXT, s).get_attribute('href'))\n",
    "    \n",
    "    driver.quit()\n",
    "except:\n",
    "    print(\"Error in WebDriverWait\")"
   ]
  },
  {
   "cell_type": "markdown",
   "id": "a7838c01",
   "metadata": {},
   "source": [
    "## 3. Autofilling Application Forms"
   ]
  },
  {
   "cell_type": "code",
   "execution_count": 14,
   "id": "5ccc20a5",
   "metadata": {},
   "outputs": [],
   "source": [
    "count = 0"
   ]
  },
  {
   "cell_type": "code",
   "execution_count": 15,
   "id": "d193103f",
   "metadata": {
    "scrolled": false
   },
   "outputs": [
    {
     "name": "stderr",
     "output_type": "stream",
     "text": [
      "C:\\Users\\kelvi\\AppData\\Local\\Temp/ipykernel_9392/1109108078.py:5: DeprecationWarning: executable_path has been deprecated, please pass in a Service object\n",
      "  driver = webdriver.Chrome(PATH)\n"
     ]
    }
   ],
   "source": [
    "# New Webdriver for Filling Application Form\n",
    "\n",
    "try:\n",
    "    app_link = app_links[count]\n",
    "    driver = webdriver.Chrome(PATH)\n",
    "    driver.get(app_link)\n",
    "    \n",
    "    driver.find_element(By.XPATH, \"/html/body/div[1]/div[2]/div/a[2]\").click()\n",
    "\n",
    "    # Filling the application form (甲部)\n",
    "    driver.find_element(By.NAME, \"event_code\").send_keys(f\"{age_group}\")\n",
    "    driver.find_element(By.ID, \"declare_2\").click()\n",
    "    driver.find_element(By.NAME, \"surname\").send_keys(\"XXX\")\n",
    "    driver.find_element(By.NAME, \"birth_dd\").send_keys(\"01\")\n",
    "    driver.find_element(By.NAME, \"birth_mm\").send_keys(\"01\")\n",
    "    driver.find_element(By.NAME, \"birth_yr\").send_keys(\"1970\")\n",
    "    driver.find_element(By.NAME, \"age\").send_keys(\"53\")\n",
    "    driver.find_element(By.NAME, \"id_no\").send_keys(\"A123456(7)\")\n",
    "    Select(driver.find_element(By.NAME, \"sex\")).select_by_value('男')\n",
    "    driver.find_element(By.NAME, \"email\").send_keys(\"XXXXXXXX@gmail.com\")\n",
    "    driver.find_element(By.NAME, \"tel\").send_keys(\"12345678\")\n",
    "    driver.find_element(By.NAME, \"address\").send_keys(\"XXXXXXXX\")\n",
    "    driver.find_element(By.NAME, \"em_name\").send_keys(\"XXX\")\n",
    "    driver.find_element(By.NAME, \"em_tel\").send_keys(\"87654321\")\n",
    "\n",
    "    # Filling the application form (丙部)\n",
    "    driver.find_element(By.ID, \"declare2_applicant1\").click()\n",
    "    driver.find_element(By.NAME, \"c_applicant_name1\").send_keys(\"XXX\")    \n",
    "\n",
    "    # Run again for the next link\n",
    "    count += 1\n",
    "except:\n",
    "    driver.quit()\n",
    "    print(\"Finished\")"
   ]
  },
  {
   "cell_type": "markdown",
   "id": "7772f99c",
   "metadata": {},
   "source": [
    "## 4. (Optional) Autofilling Application Forms for Doubles"
   ]
  },
  {
   "cell_type": "code",
   "execution_count": 16,
   "id": "650464be",
   "metadata": {
    "scrolled": true
   },
   "outputs": [
    {
     "name": "stderr",
     "output_type": "stream",
     "text": [
      "C:\\Users\\kelvi\\AppData\\Local\\Temp/ipykernel_9392/2856429340.py:2: DeprecationWarning: executable_path has been deprecated, please pass in a Service object\n",
      "  driver = webdriver.Chrome(PATH)\n"
     ]
    }
   ],
   "source": [
    "PATH = 'C:\\Program Files (x86)\\chromedriver.exe'\n",
    "driver = webdriver.Chrome(PATH)\n",
    "driver.get(\"https://www.lcsd.gov.hk/clpss/tc/search/leisure/srchCommRecretSprtProgsForm.do?searchFormPath=search%2Fleisure%2FsrchCommRecretSprtProgsForm&dist=ALL&enrolStat=E&enrolMeth=ALL&actType=060&targetType=ALL&age=gp4&month=99&enrolDate=&DateType=%E5%A0%B1%E5%90%8D%E6%97%A5%E6%9C%9F&sortField=&sortOrder=&search=&pageNo=1&sortField1=&sortField2=&sortField3=&sortField4=&hasSort=yes&sub_month=\")"
   ]
  },
  {
   "cell_type": "code",
   "execution_count": 17,
   "id": "4270dd25",
   "metadata": {},
   "outputs": [],
   "source": [
    "age_group = \"MDB\""
   ]
  },
  {
   "cell_type": "code",
   "execution_count": 18,
   "id": "0707b20a",
   "metadata": {},
   "outputs": [
    {
     "name": "stdout",
     "output_type": "stream",
     "text": [
      "['北區第三十七屆乒乓球分齡賽男成雙打MDB']\n"
     ]
    }
   ],
   "source": [
    "# Search for applicable competitions (Doubles)\n",
    "\n",
    "app_link_text = []\n",
    "app_links = []\n",
    "\n",
    "try:\n",
    "    resultTableView = WebDriverWait(driver, 10).until(\n",
    "        EC.presence_of_element_located((By.ID, \"resultTableView\"))\n",
    "    )\n",
    "    links = resultTableView.find_elements(By.TAG_NAME, \"a\")\n",
    "    for link in links:\n",
    "        link_text = link.text\n",
    "        # Search for \"MDB\" Group\n",
    "        if age_group in link_text:\n",
    "            app_link_text.append(link_text)\n",
    "    print(app_link_text)\n",
    "    \n",
    "    for s in app_link_text:\n",
    "        app_links.append(resultTableView.find_element(By.LINK_TEXT, s).get_attribute('href'))\n",
    "    \n",
    "    driver.quit()\n",
    "except:\n",
    "    print(\"Error in WebDriverWait\")"
   ]
  },
  {
   "cell_type": "code",
   "execution_count": 19,
   "id": "3881eb15",
   "metadata": {},
   "outputs": [],
   "source": [
    "count = 0"
   ]
  },
  {
   "cell_type": "code",
   "execution_count": 20,
   "id": "55d9bc74",
   "metadata": {},
   "outputs": [
    {
     "name": "stderr",
     "output_type": "stream",
     "text": [
      "C:\\Users\\kelvi\\AppData\\Local\\Temp/ipykernel_9392/3689149637.py:5: DeprecationWarning: executable_path has been deprecated, please pass in a Service object\n",
      "  driver = webdriver.Chrome(PATH)\n"
     ]
    }
   ],
   "source": [
    "# New Webdriver for Filling Application Form for Doubles\n",
    "\n",
    "try:\n",
    "    app_link = app_links[count]\n",
    "    driver = webdriver.Chrome(PATH)\n",
    "    driver.get(app_link)\n",
    "    \n",
    "    driver.find_element(By.XPATH, \"/html/body/div[1]/div[2]/div/a[2]\").click()\n",
    "\n",
    "    # Filling the application form (甲部)\n",
    "    driver.find_element(By.NAME, \"event_code\").send_keys(f\"{age_group}\")\n",
    "    driver.find_element(By.ID, \"declare_3\").click()\n",
    "    driver.find_element(By.NAME, \"chi_name\").send_keys(\"XXX\")\n",
    "    driver.find_element(By.NAME, \"email\").send_keys(\"XXXXXXXX@gmail.com\")\n",
    "    driver.find_element(By.NAME, \"tel\").send_keys(\"12345678\")\n",
    "    driver.find_element(By.NAME, \"address\").send_keys(\"XXXXXXXX\")\n",
    "    \n",
    "    # The First Applicant\n",
    "    driver.find_element(By.NAME, \"c1_surname\").send_keys(\"XXX\")\n",
    "    driver.find_element(By.NAME, \"c1_id_no\").send_keys(\"A123456(7)\")\n",
    "    Select(driver.find_element(By.NAME, \"c1_sex\")).select_by_value('男')\n",
    "    driver.find_element(By.NAME, \"c1_birth_dd\").send_keys(\"01\")\n",
    "    driver.find_element(By.NAME, \"c1_birth_mm\").send_keys(\"01\")\n",
    "    driver.find_element(By.NAME, \"c1_birth_yr\").send_keys(\"1970\")\n",
    "    driver.find_element(By.NAME, \"c1_age\").send_keys(\"53\")\n",
    "    driver.find_element(By.ID, \"c1_declare_2\").click()\n",
    "    driver.find_element(By.NAME, \"c1_em_name\").send_keys(\"XXX\")\n",
    "    driver.find_element(By.NAME, \"c1_em_tel\").send_keys(\"87654321\")\n",
    "    \n",
    "    # The Second Applicant\n",
    "    driver.find_element(By.NAME, \"c2_surname\").send_keys(\"XXX\")\n",
    "    driver.find_element(By.NAME, \"c2_id_no\").send_keys(\"A123456(7)\")\n",
    "    Select(driver.find_element(By.NAME, \"c2_sex\")).select_by_value('男')\n",
    "    driver.find_element(By.NAME, \"c2_birth_dd\").send_keys(\"01\")\n",
    "    driver.find_element(By.NAME, \"c2_birth_mm\").send_keys(\"01\")\n",
    "    driver.find_element(By.NAME, \"c2_birth_yr\").send_keys(\"1970\")\n",
    "    driver.find_element(By.NAME, \"c2_age\").send_keys(\"53\")\n",
    "    driver.find_element(By.ID, \"c2_declare_2\").click()\n",
    "    driver.find_element(By.NAME, \"c2_em_name\").send_keys(\"XXX\")\n",
    "    driver.find_element(By.NAME, \"c2_em_tel\").send_keys(\"87654321\")\n",
    "\n",
    "    # Filling the application form (丙部)\n",
    "    driver.find_element(By.ID, \"c1_declare2_applicant1\").click()\n",
    "    driver.find_element(By.NAME, \"c_applicant_name1a\").send_keys(\"XXX\")\n",
    "    driver.find_element(By.ID, \"c2_declare2_applicant1\").click()\n",
    "    driver.find_element(By.NAME, \"c_applicant_name2a\").send_keys(\"XXX\")\n",
    "\n",
    "    # Run again for the next link\n",
    "    count += 1\n",
    "except:\n",
    "    driver.quit()\n",
    "    print(\"Finished\")"
   ]
  },
  {
   "cell_type": "code",
   "execution_count": null,
   "id": "95b7f9c8",
   "metadata": {},
   "outputs": [],
   "source": []
  }
 ],
 "metadata": {
  "kernelspec": {
   "display_name": "Python 3 (ipykernel)",
   "language": "python",
   "name": "python3"
  },
  "language_info": {
   "codemirror_mode": {
    "name": "ipython",
    "version": 3
   },
   "file_extension": ".py",
   "mimetype": "text/x-python",
   "name": "python",
   "nbconvert_exporter": "python",
   "pygments_lexer": "ipython3",
   "version": "3.9.7"
  }
 },
 "nbformat": 4,
 "nbformat_minor": 5
}
